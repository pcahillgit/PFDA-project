{
 "cells": [
  {
   "cell_type": "markdown",
   "metadata": {},
   "source": [
    "# **Programming for Data Analytics Project: Decades of Music**\n",
    "\n",
    "In this project I will import a CSV downloaded from [Kaggle](https://www.kaggle.com/datasets/yamaerenay/spotify-dataset-1921-2020-160k-tracks) which includes Spotify audio features data on 160,000+ tracks ranging from 1921 to 2020."
   ]
  },
  {
   "cell_type": "markdown",
   "metadata": {},
   "source": [
    "***\n",
    "## Libraries:\n",
    "\n"
   ]
  },
  {
   "cell_type": "code",
   "execution_count": 31,
   "metadata": {},
   "outputs": [],
   "source": [
    "# Data frames\n",
    "import pandas as pd\n",
    "\n",
    "# Plotting\n",
    "import matplotlib.pyplot as plt\n",
    "\n",
    "# Numerical Arrays\n",
    "import numpy as np\n",
    "\n",
    "# Regular Expressions\n",
    "import re"
   ]
  },
  {
   "cell_type": "markdown",
   "metadata": {},
   "source": [
    "***\n",
    "## Pulling the Data:\n",
    "\n"
   ]
  },
  {
   "cell_type": "markdown",
   "metadata": {},
   "source": [
    "I downloaded the dataset used in this project from Kaggle and saved the file as a CSV within my repository. I will use pandas to read the CSV."
   ]
  },
  {
   "cell_type": "code",
   "execution_count": 32,
   "metadata": {},
   "outputs": [
    {
     "name": "stdout",
     "output_type": "stream",
     "text": [
      "First 5 rows of the dataset:\n",
      "   valence  year  acousticness  \\\n",
      "0   0.0594  1921         0.982   \n",
      "1   0.9630  1921         0.732   \n",
      "2   0.0394  1921         0.961   \n",
      "3   0.1650  1921         0.967   \n",
      "4   0.2530  1921         0.957   \n",
      "\n",
      "                                             artists  danceability  \\\n",
      "0  ['Sergei Rachmaninoff', 'James Levine', 'Berli...         0.279   \n",
      "1                                     ['Dennis Day']         0.819   \n",
      "2  ['KHP Kridhamardawa Karaton Ngayogyakarta Hadi...         0.328   \n",
      "3                                   ['Frank Parker']         0.275   \n",
      "4                                     ['Phil Regan']         0.418   \n",
      "\n",
      "   duration_ms  energy  explicit                      id  instrumentalness  \\\n",
      "0       831667   0.211         0  4BJqT0PrAfrxzMOxytFOIz          0.878000   \n",
      "1       180533   0.341         0  7xPhfUan2yNtyFG0cUWkt8          0.000000   \n",
      "2       500062   0.166         0  1o6I8BglA6ylDMrIELygv1          0.913000   \n",
      "3       210000   0.309         0  3ftBPsC5vPBKxYSee08FDH          0.000028   \n",
      "4       166693   0.193         0  4d6HGyGT8e121BsdKmw9v6          0.000002   \n",
      "\n",
      "   key  liveness  loudness  mode  \\\n",
      "0   10     0.665   -20.096     1   \n",
      "1    7     0.160   -12.441     1   \n",
      "2    3     0.101   -14.850     1   \n",
      "3    5     0.381    -9.316     1   \n",
      "4    3     0.229   -10.096     1   \n",
      "\n",
      "                                                name  popularity release_date  \\\n",
      "0  Piano Concerto No. 3 in D Minor, Op. 30: III. ...           4         1921   \n",
      "1                            Clancy Lowered the Boom           5         1921   \n",
      "2                                          Gati Bali           5         1921   \n",
      "3                                          Danny Boy           3         1921   \n",
      "4                        When Irish Eyes Are Smiling           2         1921   \n",
      "\n",
      "   speechiness    tempo  \n",
      "0       0.0366   80.954  \n",
      "1       0.4150   60.936  \n",
      "2       0.0339  110.339  \n",
      "3       0.0354  100.109  \n",
      "4       0.0380  101.665  \n"
     ]
    }
   ],
   "source": [
    "\n",
    "df = pd.read_csv(\"spotify_data.csv\")\n",
    " \n",
    "df.columns = [\"valence\", \"year\", \"acousticness\", \"artists\", \"danceability\", \"duration_ms\", \"energy\", \"explicit\", \"id\",\n",
    "              \"instrumentalness\", \"key\", \"liveness\", \"loudness\", \"mode\", \"name\", \"popularity\", \"release_date\", \"speechiness\", \"tempo\"]\n",
    "\n",
    "print(\"First 5 rows of the dataset:\")\n",
    "print(df.head())\n"
   ]
  },
  {
   "cell_type": "markdown",
   "metadata": {},
   "source": [
    "***\n",
    "## References:\n",
    "\n",
    "| Author                                 | Title                                                                                                         | Blurb                           |\n",
    "| :---                                   |    :----:                                                                                                     |          :---:                  |\n",
    "| Yamac Eren Ay | [ Spotify Dataset 1921-2020, 160k+ Tracks  ](https://www.kaggle.com/datasets/yamaerenay/spotify-dataset-1921-2020-160k-tracks) | Kaggle dataset which includes data on the audio features of 160k+ Spotify tracks ranging from 1921 to 2020. |\n",
    "\n"
   ]
  }
 ],
 "metadata": {
  "kernelspec": {
   "display_name": "base",
   "language": "python",
   "name": "python3"
  },
  "language_info": {
   "codemirror_mode": {
    "name": "ipython",
    "version": 3
   },
   "file_extension": ".py",
   "mimetype": "text/x-python",
   "name": "python",
   "nbconvert_exporter": "python",
   "pygments_lexer": "ipython3",
   "version": "3.12.4"
  }
 },
 "nbformat": 4,
 "nbformat_minor": 2
}

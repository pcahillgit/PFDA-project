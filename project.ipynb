{
 "cells": [
  {
   "cell_type": "markdown",
   "metadata": {},
   "source": [
    "# **Programming for Data Analytics Project: Decades of Music**\n",
    "\n",
    "In this project I will import an open source CSV downloaded from [Kaggle](https://www.kaggle.com/datasets/yamaerenay/spotify-dataset-1921-2020-160k-tracks) which includes Spotify audio features data on 160,000+ tracks ranging from 1921 to 2020.\n",
    "\n",
    "I will use the key principles thought in the programming for data analytics module such as pandas dataframes, data visualisation, randomisation and regular expressions to conduct an analysis of this dataset."
   ]
  },
  {
   "cell_type": "markdown",
   "metadata": {},
   "source": [
    "***\n",
    "## Libraries:\n",
    "\n"
   ]
  },
  {
   "cell_type": "code",
   "execution_count": 63,
   "metadata": {},
   "outputs": [],
   "source": [
    "# Data frames\n",
    "import pandas as pd\n",
    "\n",
    "# Plotting\n",
    "import matplotlib.pyplot as plt\n",
    "\n",
    "# Numerical Arrays\n",
    "import numpy as np\n",
    "\n",
    "# Regular Expressions\n",
    "import re"
   ]
  },
  {
   "cell_type": "markdown",
   "metadata": {},
   "source": [
    "***\n",
    "## Importing the Data:\n",
    "\n",
    "I downloaded the dataset used in this project from Kaggle and saved the file as a CSV within my repository. I will use pandas to read that CSV and then check how it is structured."
   ]
  },
  {
   "cell_type": "code",
   "execution_count": 64,
   "metadata": {},
   "outputs": [
    {
     "name": "stdout",
     "output_type": "stream",
     "text": [
      "First 5 rows of the dataset:\n",
      "   valence  year  acousticness  \\\n",
      "0   0.0594  1921         0.982   \n",
      "1   0.9630  1921         0.732   \n",
      "2   0.0394  1921         0.961   \n",
      "3   0.1650  1921         0.967   \n",
      "4   0.2530  1921         0.957   \n",
      "\n",
      "                                             artists  danceability  \\\n",
      "0  ['Sergei Rachmaninoff', 'James Levine', 'Berli...         0.279   \n",
      "1                                     ['Dennis Day']         0.819   \n",
      "2  ['KHP Kridhamardawa Karaton Ngayogyakarta Hadi...         0.328   \n",
      "3                                   ['Frank Parker']         0.275   \n",
      "4                                     ['Phil Regan']         0.418   \n",
      "\n",
      "   duration_ms  energy  explicit                      id  instrumentalness  \\\n",
      "0       831667   0.211         0  4BJqT0PrAfrxzMOxytFOIz          0.878000   \n",
      "1       180533   0.341         0  7xPhfUan2yNtyFG0cUWkt8          0.000000   \n",
      "2       500062   0.166         0  1o6I8BglA6ylDMrIELygv1          0.913000   \n",
      "3       210000   0.309         0  3ftBPsC5vPBKxYSee08FDH          0.000028   \n",
      "4       166693   0.193         0  4d6HGyGT8e121BsdKmw9v6          0.000002   \n",
      "\n",
      "   key  liveness  loudness  mode  \\\n",
      "0   10     0.665   -20.096     1   \n",
      "1    7     0.160   -12.441     1   \n",
      "2    3     0.101   -14.850     1   \n",
      "3    5     0.381    -9.316     1   \n",
      "4    3     0.229   -10.096     1   \n",
      "\n",
      "                                                name  popularity release_date  \\\n",
      "0  Piano Concerto No. 3 in D Minor, Op. 30: III. ...           4         1921   \n",
      "1                            Clancy Lowered the Boom           5         1921   \n",
      "2                                          Gati Bali           5         1921   \n",
      "3                                          Danny Boy           3         1921   \n",
      "4                        When Irish Eyes Are Smiling           2         1921   \n",
      "\n",
      "   speechiness    tempo  \n",
      "0       0.0366   80.954  \n",
      "1       0.4150   60.936  \n",
      "2       0.0339  110.339  \n",
      "3       0.0354  100.109  \n",
      "4       0.0380  101.665  \n"
     ]
    }
   ],
   "source": [
    "\n",
    "df = pd.read_csv(\"spotify_data.csv\")\n",
    " \n",
    "df.columns = [\"valence\", \"year\", \"acousticness\", \"artists\", \"danceability\", \"duration_ms\", \"energy\", \"explicit\", \"id\",\n",
    "              \"instrumentalness\", \"key\", \"liveness\", \"loudness\", \"mode\", \"name\", \"popularity\", \"release_date\", \"speechiness\", \"tempo\"]\n",
    "\n",
    "print(\"First 5 rows of the dataset:\")\n",
    "print(df.head())\n"
   ]
  },
  {
   "cell_type": "markdown",
   "metadata": {},
   "source": [
    "Evidently, we are getting a wide range of variables within this dataset detailing the various audio qualities of the songs included in it.\n",
    "\n",
    "Let's start off by producing some descriptive statistics for the date range of the tracks and then checking what the 10 most popular tracks are in the dataset. "
   ]
  },
  {
   "cell_type": "code",
   "execution_count": 65,
   "metadata": {},
   "outputs": [
    {
     "name": "stdout",
     "output_type": "stream",
     "text": [
      "Summary Statistics for Song Years:count    170653.0\n",
      "mean       1977.0\n",
      "std          26.0\n",
      "min        1921.0\n",
      "25%        1956.0\n",
      "50%        1977.0\n",
      "75%        1999.0\n",
      "max        2020.0\n",
      "Name: year, dtype: float64\n",
      "5 Most Popular Tracks:                                  artists                             name  \\\n",
      "19611        ['Bad Bunny', 'Jhay Cortez']                           Dakiti   \n",
      "19606           ['24kGoldn', 'iann dior']           Mood (feat. iann dior)   \n",
      "19618                             ['BTS']                         Dynamite   \n",
      "19608  ['Cardi B', 'Megan Thee Stallion']  WAP (feat. Megan Thee Stallion)   \n",
      "19610                   ['Ariana Grande']                        positions   \n",
      "\n",
      "       year  popularity  \n",
      "19611  2020         100  \n",
      "19606  2020          99  \n",
      "19618  2020          97  \n",
      "19608  2020          96  \n",
      "19610  2020          96  \n"
     ]
    }
   ],
   "source": [
    "summary_stats = df[\"year\"].describe().round(0)\n",
    "print(f'Summary Statistics for Song Years:{summary_stats}')\n",
    "\n",
    "most_popular_tracks = df.nlargest(5, \"popularity\")[[\"artists\", \"name\", \"year\", \"popularity\"]]\n",
    "print(f'5 Most Popular Tracks:{most_popular_tracks}')"
   ]
  },
  {
   "cell_type": "markdown",
   "metadata": {},
   "source": [
    "***\n",
    "## Comparing Music by Decade:"
   ]
  },
  {
   "cell_type": "markdown",
   "metadata": {},
   "source": [
    "***\n",
    "## Random Track Stats:"
   ]
  },
  {
   "cell_type": "markdown",
   "metadata": {},
   "source": [
    "***\n",
    "## Track Title Analysis:"
   ]
  },
  {
   "cell_type": "markdown",
   "metadata": {},
   "source": [
    "***\n",
    "## References:\n",
    "\n",
    "| Author                                 | Title                                                                                                         | Blurb                           |\n",
    "| :---                                   |    :----:                                                                                                     |          :---:                  |\n",
    "| Matplotlib | [Matplotlib intro to plotting](https://matplotlib.org/stable/users/explain/quick_start.html) | Matplotlib intro to plotting. |\n",
    "| Yamac Eren Ay | [ Spotify Dataset 1921-2020, 160k+ Tracks  ](https://www.kaggle.com/datasets/yamaerenay/spotify-dataset-1921-2020-160k-tracks) | Kaggle dataset which includes data on the audio features of 160k+ Spotify tracks ranging from 1921 to 2020. |\n",
    "\n",
    "\n"
   ]
  }
 ],
 "metadata": {
  "kernelspec": {
   "display_name": "base",
   "language": "python",
   "name": "python3"
  },
  "language_info": {
   "codemirror_mode": {
    "name": "ipython",
    "version": 3
   },
   "file_extension": ".py",
   "mimetype": "text/x-python",
   "name": "python",
   "nbconvert_exporter": "python",
   "pygments_lexer": "ipython3",
   "version": "3.12.4"
  }
 },
 "nbformat": 4,
 "nbformat_minor": 2
}
